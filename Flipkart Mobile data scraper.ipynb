{
 "cells": [
  {
   "cell_type": "code",
   "execution_count": 33,
   "metadata": {},
   "outputs": [],
   "source": [
    "import csv\n",
    "from bs4 import BeautifulSoup\n",
    "from selenium import webdriver"
   ]
  },
  {
   "cell_type": "code",
   "execution_count": 34,
   "metadata": {},
   "outputs": [],
   "source": [
    "driver=webdriver.Chrome()"
   ]
  },
  {
   "cell_type": "code",
   "execution_count": 35,
   "metadata": {},
   "outputs": [],
   "source": [
    "url='https://www.flipkart.com/'\n",
    "driver.get(url)"
   ]
  },
  {
   "cell_type": "code",
   "execution_count": 36,
   "metadata": {},
   "outputs": [],
   "source": [
    "def get_url(search_term):\n",
    "    template='https://www.flipkart.com/search?q=latest+mobiles&otracker=search&otracker1=search&marketplace=FLIPKART&as-show=on&as=off'\n",
    "    search_term=search_term.replace(' ','%20')\n",
    "    return template.format(search_term)\n",
    "url=get_url('latest mobiles')\n",
    "driver.get(url)"
   ]
  },
  {
   "cell_type": "code",
   "execution_count": 37,
   "metadata": {},
   "outputs": [
    {
     "data": {
      "text/plain": [
       "24"
      ]
     },
     "execution_count": 37,
     "metadata": {},
     "output_type": "execute_result"
    }
   ],
   "source": [
    "soup=BeautifulSoup(driver.page_source,'html.parser')\n",
    "results=soup.find_all('div',{'class':'_3pLy-c row'})\n",
    "len(results)"
   ]
  },
  {
   "cell_type": "code",
   "execution_count": 38,
   "metadata": {},
   "outputs": [],
   "source": [
    "item=results[0]\n",
    "Parent= item.find('div',{'class','col col-7-12'})"
   ]
  },
  {
   "cell_type": "code",
   "execution_count": 39,
   "metadata": {},
   "outputs": [],
   "source": [
    "Name=Parent.find('div',{'class','_4rR01T'}).text"
   ]
  },
  {
   "cell_type": "code",
   "execution_count": 40,
   "metadata": {},
   "outputs": [
    {
     "name": "stdout",
     "output_type": "stream",
     "text": [
      "['6 GB RAM | 128 GB ROM | Expandable Upto 512 GB', '16.94 cm (6.67 inch) Full HD+ Display', '64MP + 13MP + 2MP + 2MP | 20MP Front Camera', '6000 mAh Lithium-ion Polymer Battery', 'Qualcomm Snapdragon 732G Processor', '1 Year for Handset and 6 Months for Accessories']\n"
     ]
    }
   ],
   "source": [
    "List=Parent.find('div',{'class':'fMghEO'})\n",
    "UL=List.find('ul',{'class':'_1xgFaf'})\n",
    "li=list()\n",
    "for tex in UL:\n",
    "    new=tex.text.strip()\n",
    "    li.append(new)\n",
    "print(li)"
   ]
  },
  {
   "cell_type": "code",
   "execution_count": 48,
   "metadata": {},
   "outputs": [],
   "source": [
    "Storage=li[0]\n",
    "New_storage=Storage.split('|')\n",
    "RAM= New_storage[0]\n",
    "Internal_storage= New_storage[1]\n",
    "Display=li[1]\n",
    "Camera=li[2]\n",
    "New_camera=Camera.split('|')\n",
    "Rear_camera= New_camera[0]\n",
    "Front_camera=New_camera[1]\n",
    "Battery=li[3]\n",
    "Processor=li[4]"
   ]
  },
  {
   "cell_type": "code",
   "execution_count": 42,
   "metadata": {},
   "outputs": [],
   "source": [
    "Price_parent_1=item.find('div',{'class':'col col-5-12 nlI3QM'})\n",
    "Price_parent_2= Price_parent_1.find('div',{'class':'_3tbKJL'})\n",
    "Price_parent_3= Price_parent_2.find('div',{'class':'_25b18c'})\n",
    "Price=Price_parent_3.find('div',{'class':'_30jeq3 _1_WHN1'}).text"
   ]
  },
  {
   "cell_type": "code",
   "execution_count": 43,
   "metadata": {},
   "outputs": [],
   "source": [
    "def extract_record(item):\n",
    "    Parent= item.find('div',{'class','col col-7-12'})\n",
    "    Name=Parent.find('div',{'class','_4rR01T'}).text\n",
    "    List=Parent.find('div',{'class':'fMghEO'})\n",
    "    UL=List.find('ul',{'class':'_1xgFaf'})\n",
    "    li=list()\n",
    "    for tex in UL:\n",
    "        new=tex.text.strip()\n",
    "        li.append(new)\n",
    "    try:\n",
    "        if(a for a in New_storage if 'RAM' in a)==True:\n",
    "            global RAM\n",
    "            RAM=New_storage[0]\n",
    "    except IndexError:\n",
    "        return\n",
    "    try:\n",
    "        if(b for b in New_storage if 'ROM' in b)==True:\n",
    "            global Internal_storage\n",
    "            Internal_storage=New_storage[1]\n",
    "    except IndexError:\n",
    "        return    \n",
    "    try:\n",
    "        if(c for c in li if 'Display' in c)==True:\n",
    "            global Display\n",
    "            Display=(li[1])\n",
    "    except IndexError:\n",
    "        return\n",
    "    try:\n",
    "        if(d for d in li if 'Camera' in d)==True:\n",
    "            global Camera\n",
    "            Camera=li[2]\n",
    "    except IndexError:\n",
    "        return\n",
    "    try:\n",
    "        if(e for e in li if 'mAh' in e)==True:\n",
    "            global Battery\n",
    "            Battery=li[3]\n",
    "    except IndexError:\n",
    "        return\n",
    "    try:\n",
    "        if(f for f in li if 'Processor' in f)==True:\n",
    "            global Processor\n",
    "            Processor=li[4]\n",
    "        elif(((g for g in li if 'Year' in g)==True) or ((h for h in li if 'YEAR' in h)== True) or ((i for i in li if 'year' in i)==True)):\n",
    "            Processor=Null\n",
    "    except IndexError:\n",
    "        return\n",
    "    try:\n",
    "        global Price\n",
    "        Price_parent_1=item.find('div',{'class':'col col-5-12 nlI3QM'})\n",
    "        Price_parent_2= Price_parent_1.find('div',{'class':'_3tbKJL'})\n",
    "        Price_parent_3= Price_parent_2.find('div',{'class':'_25b18c'})\n",
    "        Price=Price_parent_3.find('div',{'class':'_30jeq3 _1_WHN1'}).text\n",
    "    except IndexError:\n",
    "        return\n",
    "    \n",
    "    result=(Name,RAM,Internal_storage, Display, Camera, Battery, Processor, Price)\n",
    "    \n",
    "    return result\n"
   ]
  },
  {
   "cell_type": "code",
   "execution_count": 44,
   "metadata": {},
   "outputs": [],
   "source": [
    "records=list()\n",
    "results=soup.find_all('div',{'class':'_3pLy-c row'})\n",
    "\n",
    "for item in results:\n",
    "    records.append(extract_record(item))"
   ]
  },
  {
   "cell_type": "code",
   "execution_count": 45,
   "metadata": {},
   "outputs": [
    {
     "data": {
      "text/plain": [
       "('POCO X3 (Cobalt Blue, 128 GB)',\n",
       " '6 GB RAM ',\n",
       " ' 128 GB ROM ',\n",
       " '16.94 cm (6.67 inch) Full HD+ Display',\n",
       " '64MP + 13MP + 2MP + 2MP | 20MP Front Camera',\n",
       " '6000 mAh Lithium-ion Polymer Battery',\n",
       " 'Qualcomm Snapdragon 732G Processor',\n",
       " '₹15,999')"
      ]
     },
     "execution_count": 45,
     "metadata": {},
     "output_type": "execute_result"
    }
   ],
   "source": [
    "records[0]"
   ]
  },
  {
   "cell_type": "code",
   "execution_count": 51,
   "metadata": {},
   "outputs": [],
   "source": [
    "import csv\n",
    "from bs4 import BeautifulSoup\n",
    "from selenium import webdriver\n",
    "def get_url(search_term):\n",
    "    template='https://www.flipkart.com/search?q=latest+mobiles&otracker=search&otracker1=search&marketplace=FLIPKART&as-show=on&as=off'\n",
    "    search_term=search_term.replace(' ','%20')\n",
    "    \n",
    "    url=template.format(search_term)\n",
    "    url+='&page={}'\n",
    "    return url\n",
    "\n",
    "def extract_record(item):\n",
    "    Parent= item.find('div',{'class','col col-7-12'})\n",
    "    Name=Parent.find('div',{'class','_4rR01T'}).text\n",
    "    List=Parent.find('div',{'class':'fMghEO'})\n",
    "    UL=List.find('ul',{'class':'_1xgFaf'})\n",
    "    li=list()\n",
    "    for tex in UL:\n",
    "        new=tex.text.strip()\n",
    "        li.append(new)\n",
    "    Storage=li[0]\n",
    "    New_storage=Storage.split('|')\n",
    "    Camera=li[2]\n",
    "    New_camera=Camera.split('|')\n",
    "    try:\n",
    "        Rear_camera= New_camera[0]\n",
    "    except IndexError:\n",
    "        return\n",
    "    try:\n",
    "        Front_camera=New_camera[1]\n",
    "    except IndexError:\n",
    "        return\n",
    "    try:\n",
    "        RAM=New_storage[0]\n",
    "    except IndexError:\n",
    "        return\n",
    "    try:\n",
    "        Internal_storage=New_storage[1]\n",
    "    except IndexError:\n",
    "        return    \n",
    "    try:\n",
    "        Display=(li[1])\n",
    "    except IndexError:\n",
    "        return\n",
    "    try:\n",
    "        Battery=li[3]\n",
    "    except IndexError:\n",
    "        return\n",
    "    try:\n",
    "        Processor=li[4]\n",
    "    except IndexError:\n",
    "        return\n",
    "    try:\n",
    "        Price_parent_1=item.find('div',{'class':'col col-5-12 nlI3QM'})\n",
    "        Price_parent_2= Price_parent_1.find('div',{'class':'_3tbKJL'})\n",
    "        Price_parent_3= Price_parent_2.find('div',{'class':'_25b18c'})\n",
    "        Price=Price_parent_3.find('div',{'class':'_30jeq3 _1_WHN1'}).text\n",
    "    except IndexError:\n",
    "        return\n",
    "    \n",
    "    result=(Name,RAM,Internal_storage, Display, Rear_camera, Front_camera , Battery, Processor, Price)\n",
    "    \n",
    "    return result\n",
    "\n",
    "\n",
    "def main(search_term):\n",
    "    driver=webdriver.Chrome()\n",
    "    records=[]\n",
    "    url=get_url(search_term)\n",
    "    \n",
    "    for page in range(1,21):\n",
    "        driver.get(url.format(page))\n",
    "        soup= BeautifulSoup(driver.page_source,'html.parser')\n",
    "        results=soup.find_all('div',{'class':'_3pLy-c row'})\n",
    "        \n",
    "        for item in results:\n",
    "            record = extract_record(item)\n",
    "            if record:\n",
    "                records.append(record)\n",
    "    driver.close()\n",
    "    \n",
    "    with open('Mobile_data.csv','w',newline='',encoding='utf-8') as f:\n",
    "        writer=csv.writer(f)\n",
    "        writer.writerow(['Name','RAM','Internal storage','Display','Rear Camera','Front Camera','Battery','Processor','Price'])\n",
    "        writer.writerows(records)"
   ]
  },
  {
   "cell_type": "code",
   "execution_count": 52,
   "metadata": {},
   "outputs": [],
   "source": [
    "main('latest mobiles')"
   ]
  }
 ],
 "metadata": {
  "kernelspec": {
   "display_name": "Python 3",
   "language": "python",
   "name": "python3"
  },
  "language_info": {
   "codemirror_mode": {
    "name": "ipython",
    "version": 3
   },
   "file_extension": ".py",
   "mimetype": "text/x-python",
   "name": "python",
   "nbconvert_exporter": "python",
   "pygments_lexer": "ipython3",
   "version": "3.8.5"
  }
 },
 "nbformat": 4,
 "nbformat_minor": 4
}
